{
 "cells": [
  {
   "cell_type": "markdown",
   "id": "b89c8235",
   "metadata": {},
   "source": [
    "# CODE-UP STATISTICS REVIEW"
   ]
  },
  {
   "cell_type": "markdown",
   "id": "42a14c5c",
   "metadata": {},
   "source": [
    "## Goals\n",
    "- Build on top of the statistics knowledge from the khan academy prework\n",
    "- Understand how to use the uniform, binomial, poisson, and normal distributions to model real-world scenarios\n",
    "- Understand in general how hypothesis testing is performed\n",
    "- Know when to use a t-test, correlation test, and χ2\n",
    " test\n",
    "- Write python code that simulates experiments in order to calculate an experimental probability\n",
    "- Use various statistical distributions in python through scipy.stats\n",
    "- Perform hypothesis testing in python code\n"
   ]
  },
  {
   "cell_type": "code",
   "execution_count": 83,
   "id": "7ff545db",
   "metadata": {},
   "outputs": [],
   "source": [
    "import matplotlib.pyplot as plt\n",
    "import pandas as pd\n",
    "import numpy as np\n",
    "import seaborn as sns\n",
    "\n",
    "import viz\n",
    "\n",
    "import warnings\n",
    "warnings.filterwarnings('ignore')"
   ]
  },
  {
   "cell_type": "markdown",
   "id": "dd846b83",
   "metadata": {},
   "source": [
    "### Descriptive statistics:\n",
    "- ##### (1). <u>Measures of Central Tendancy:</u>\n",
    "    - __Mean__ --> (Average value)\n",
    "    - __Median__ --> (The center, or middle value.)\n",
    "    - __Mode__ --> (most frequent)\n",
    "    - __Bi-modal__ --> (when two values tie for the mode)\n",
    "    - __Trimmed mean__ --> (average after removing a certain percentage of outliers. Less sensitive to outliers than the mean)\n",
    "    \n",
    "- ##### (2). <u>Measures of Spread:</u>\n",
    "    - __Min__ \n",
    "    - __Max__\n",
    "    - __Range__ --> (delta between max and min)\n",
    "    - __Mean Absolute Deviation__ --> (average of deviations from a central point)\n",
    "    - __Quantile__ --> (The cut points that divide a probability distribution into __EQUALLY__ sized continuous intervals)\n",
    "    - __Quartile__ --> (The cut points on a distrubtion to subdivide it into 4 equally sized intervals are called the quartiles.)\n",
    "    - __Percentile__ --> (A quantile cut into 100 equally sized intervals)\n",
    "    - __IQR__ (q1- q4)\n",
    "    - __Variance__ --> (The average squared distance between each point and the mean) \n",
    "    - __Standard Deviation__ --> (The square root of the variance)\n",
    "    - __Skew:__\n",
    "        - __Symmetric__ ()\n",
    "        - __Left skew__ ( A set of data values in which the MEAN IS GENERALLY LESS THAN the median. The left tail of the distribution is longer than the right tail of the distribution.)\n",
    "        - __Right skew__ (A set of data values in which the MEAN IS GENERALLY GREATER THAN the median. The right tail of the distribution is longer than the left tail of the distribution.)\n",
    "        "
   ]
  },
  {
   "cell_type": "markdown",
   "id": "a6d9805b",
   "metadata": {},
   "source": [
    "> ## <u>SIMULATIONS</u>"
   ]
  },
  {
   "cell_type": "code",
   "execution_count": 3,
   "id": "15110dec",
   "metadata": {},
   "outputs": [],
   "source": [
    "np.random.seed(29)"
   ]
  },
  {
   "cell_type": "markdown",
   "id": "863c1c6a",
   "metadata": {},
   "source": [
    "### Generating Random Numbers with Numpy\n",
    "The numpy.random module provides a number of functions for generating random numbers.\n",
    "\n",
    "- __np.random.choice:__ --> selects random options from a list\n",
    "- __np.random.uniform:__ --> generates numbers between a given lower and upper bound\n",
    "- __np.random.random:__ --> generates numbers between 0 and 1\n",
    "- __np.random.randn:__ --> generates numbers from the standard normal distribution\n",
    "- __np.random.normal:__ --> generates numbers from a normal distribution with a specified mean and standard deviation"
   ]
  },
  {
   "cell_type": "markdown",
   "id": "d2cb4da6",
   "metadata": {},
   "source": [
    "### EXAMPLE 1: Carnival Dice Rolls\n",
    "- You are at a carnival and come across a person in a booth offering you a game of \"chance\" (as people in booths at carnivals tend to do).\n",
    "\n",
    "- You pay 5 dollars and roll 3 dice. If the sum of the dice rolls is greater than 12, you get 15 dollars. If it's less than or equal to 12, you get nothing.\n",
    "\n",
    "- Assuming the dice are fair, should you play this game? How would this change if the winning condition was a sum greater than or equal to 12?"
   ]
  },
  {
   "cell_type": "code",
   "execution_count": 27,
   "id": "9b0ba3bb",
   "metadata": {},
   "outputs": [
    {
     "data": {
      "text/plain": [
       "array([[2, 1, 5],\n",
       "       [2, 5, 3],\n",
       "       [5, 3, 3],\n",
       "       ...,\n",
       "       [1, 6, 3],\n",
       "       [1, 5, 2],\n",
       "       [4, 1, 6]])"
      ]
     },
     "execution_count": 27,
     "metadata": {},
     "output_type": "execute_result"
    }
   ],
   "source": [
    "n_trials = nrows = 10_000\n",
    "n_dice = ncols = 3\n",
    "\n",
    "rolls = np.random.choice([1, 2, 3, 4, 5, 6], \n",
    "                         n_trials * n_dice).reshape(nrows, ncols)\n",
    "rolls"
   ]
  },
  {
   "cell_type": "code",
   "execution_count": 28,
   "id": "6b797bb1",
   "metadata": {},
   "outputs": [
    {
     "data": {
      "text/plain": [
       "array([ 8, 10, 11, ..., 10,  8, 11])"
      ]
     },
     "execution_count": 28,
     "metadata": {},
     "output_type": "execute_result"
    }
   ],
   "source": [
    "sums_by_trial = rolls.sum(axis=1)\n",
    "sums_by_trial"
   ]
  },
  {
   "cell_type": "code",
   "execution_count": 29,
   "id": "6f7ef101",
   "metadata": {},
   "outputs": [
    {
     "data": {
      "image/png": "[encoded data removed]",
      "text/plain": [
       "<Figure size 648x432 with 1 Axes>"
      ]
     },
     "metadata": {
      "needs_background": "light"
     },
     "output_type": "display_data"
    }
   ],
   "source": [
    "viz.simulation_example1(sums_by_trial)"
   ]
  },
  {
   "cell_type": "code",
   "execution_count": 30,
   "id": "61440552",
   "metadata": {},
   "outputs": [
    {
     "data": {
      "text/plain": [
       "array([False, False, False, ..., False, False, False])"
      ]
     },
     "execution_count": 30,
     "metadata": {},
     "output_type": "execute_result"
    }
   ],
   "source": [
    "# Wins greater than 12\n",
    "\n",
    "wins = sums_by_trial > 12\n",
    "wins"
   ]
  },
  {
   "cell_type": "code",
   "execution_count": 31,
   "id": "f11a129c",
   "metadata": {},
   "outputs": [
    {
     "data": {
      "text/plain": [
       "0.2513"
      ]
     },
     "execution_count": 31,
     "metadata": {},
     "output_type": "execute_result"
    }
   ],
   "source": [
    "# To calculate an overall win rate, we can treat each win as a 1 and each loss as 0, then take the average of the array:\n",
    "\n",
    "win_rate = wins.astype(int).mean()\n",
    "win_rate"
   ]
  },
  {
   "cell_type": "code",
   "execution_count": 32,
   "id": "e18d1141",
   "metadata": {},
   "outputs": [
    {
     "data": {
      "text/plain": [
       "-1.2304999999999997"
      ]
     },
     "execution_count": 32,
     "metadata": {},
     "output_type": "execute_result"
    }
   ],
   "source": [
    "# Now that we know our win rate, we can calculate the expected profit:\n",
    "\n",
    "expected_winnings = win_rate * 15\n",
    "cost = 5\n",
    "expected_profit = expected_winnings - cost\n",
    "expected_profit"
   ]
  },
  {
   "cell_type": "code",
   "execution_count": 20,
   "id": "765e9211",
   "metadata": {},
   "outputs": [
    {
     "data": {
      "text/plain": [
       "0.5724999999999998"
      ]
     },
     "execution_count": 20,
     "metadata": {},
     "output_type": "execute_result"
    }
   ],
   "source": [
    "# Wins greater or equal to 12\n",
    "\n",
    "wins = sums_by_trial >= 12\n",
    "win_rate = wins.astype(int).mean()\n",
    "expected_winnings = win_rate * 15\n",
    "cost = 5\n",
    "expected_profit = expected_winnings - cost\n",
    "expected_profit"
   ]
  },
  {
   "cell_type": "markdown",
   "id": "7b010058",
   "metadata": {},
   "source": [
    "### EXAMPLE 2: What is the probability of getting at least one 3 in 3 dice rolls?\n",
    "\n"
   ]
  },
  {
   "cell_type": "code",
   "execution_count": 33,
   "id": "3cd804ca",
   "metadata": {},
   "outputs": [
    {
     "data": {
      "text/plain": [
       "0.42151"
      ]
     },
     "execution_count": 33,
     "metadata": {},
     "output_type": "execute_result"
    }
   ],
   "source": [
    "n_simulations = nrows = 10**5\n",
    "n_dice_rolled = ncols = 3\n",
    "\n",
    "rolls = np.random.choice([1, 2, 3, 4, 5, 6], \n",
    "                         nrows * ncols).reshape(nrows, ncols)\n",
    "\n",
    "(pd.DataFrame(rolls)\n",
    " .apply(lambda row: 3 in row.values, axis=1)\n",
    " .mean())"
   ]
  },
  {
   "cell_type": "markdown",
   "id": "b3f0f363",
   "metadata": {},
   "source": [
    "> # <u>PROBABILITY DISTRIBUTIONS<u/>\n",
    "\n",
    "__Probability distributions__ are mathematical functions that we can use to model real-world processes. These distributions provide the probabilities of occurrence of different possible outcomes in an experiment.\n",
    "\n",
    "#### Examples:\n",
    "- Uniform --> (__equal likelyhoods__ amont all outcomes, e.g. a fair coin)\n",
    "- Normal --> (model a __continuous__ random variable.)\n",
    "- Binomial --> (determining a __binary outcome__ of an event. Success/failure)\n",
    "- Poisson --> (amount of events occuring __over a time interval__)"
   ]
  },
  {
   "cell_type": "code",
   "execution_count": 24,
   "id": "6b993876",
   "metadata": {},
   "outputs": [],
   "source": [
    "# Import stats module\n",
    "from scipy import stats"
   ]
  },
  {
   "cell_type": "markdown",
   "id": "5d40c44c",
   "metadata": {},
   "source": [
    "## <u>Selecting the Appropriate Distribution Method</u>\n",
    "\n",
    "##### Given value and want probability: \n",
    "    \n",
    "    - if Continuous Values:\n",
    "        --> use .pdf\n",
    "    - if Dicrete Vales:\n",
    "        --> use .pmf\n",
    "        \n",
    "##### Probability of random value takes < than or == to given point:\n",
    "   \n",
    "    - if have value and want probability:\n",
    "        --> use .cdf\n",
    "    - if have probability & want value:\n",
    "        --> use .ppf\n",
    "        \n",
    "##### Probability random value takes value > than given point:\n",
    "    \n",
    "    - If have value and want probability:\n",
    "        --> use .sf\n",
    "    - If have probability and want values:\n",
    "        --> use .isf"
   ]
  },
  {
   "cell_type": "code",
   "execution_count": 58,
   "id": "e8d48ce4",
   "metadata": {},
   "outputs": [
    {
     "data": {
      "text/plain": [
       "2"
      ]
     },
     "execution_count": 58,
     "metadata": {},
     "output_type": "execute_result"
    }
   ],
   "source": [
    "# Create random dice distribution values\n",
    "\n",
    "dice_dist = stats.randint(1, 7)\n",
    "dice_dist.rvs()"
   ]
  },
  {
   "cell_type": "code",
   "execution_count": 61,
   "id": "6d506543",
   "metadata": {},
   "outputs": [
    {
     "data": {
      "text/plain": [
       "array([[6, 3, 6, 5, 3],\n",
       "       [6, 1, 4, 4, 4],\n",
       "       [3, 2, 2, 3, 4],\n",
       "       [6, 5, 3, 5, 2],\n",
       "       [2, 4, 1, 5, 1]])"
      ]
     },
     "execution_count": 61,
     "metadata": {},
     "output_type": "execute_result"
    }
   ],
   "source": [
    "# Dice Array\n",
    "\n",
    "dice_dist.rvs([5, 5])"
   ]
  },
  {
   "cell_type": "markdown",
   "id": "47bd0ad5",
   "metadata": {},
   "source": [
    "## (A). UNIFORM DISTRIBUTION\n",
    "\n",
    "- The uniform distribution can be used to __model events where the outcome is discrete and each outcome has an equally likely chance of happening.__\n",
    "\n",
    "- Example of an event that can be modeled with the uniform distribution is the outcome of rolling a 6-sided die."
   ]
  },
  {
   "cell_type": "markdown",
   "id": "34a596ae",
   "metadata": {},
   "source": [
    "### Probability Mass Function (pmf)  ---- discrete distributions\n",
    "### Probability Density Function (pdf) ---- continuous distributions\n",
    "- Gives us the probability of any single outcome."
   ]
  },
  {
   "cell_type": "code",
   "execution_count": 62,
   "id": "3e084a90",
   "metadata": {},
   "outputs": [
    {
     "data": {
      "text/plain": [
       "0.16666666666666666"
      ]
     },
     "execution_count": 62,
     "metadata": {},
     "output_type": "execute_result"
    }
   ],
   "source": [
    "# Probability mass function for getting 3\n",
    "\n",
    "dice_dist.pmf(3)"
   ]
  },
  {
   "cell_type": "code",
   "execution_count": 70,
   "id": "648a963a",
   "metadata": {},
   "outputs": [
    {
     "data": {
      "text/plain": [
       "array([0.16666667, 0.16666667, 0.16666667])"
      ]
     },
     "execution_count": 70,
     "metadata": {},
     "output_type": "execute_result"
    }
   ],
   "source": [
    "# Probability mass function for getting 1, or 2, or 3\n",
    "\n",
    "dice_dist.pmf([1, 2, 3])"
   ]
  },
  {
   "cell_type": "markdown",
   "id": "414d384e",
   "metadata": {},
   "source": [
    "### Cumulative Density Function \n",
    "- Tells us the likelihood of a single outcome or all the results below it."
   ]
  },
  {
   "cell_type": "code",
   "execution_count": 69,
   "id": "671f3254",
   "metadata": {},
   "outputs": [
    {
     "data": {
      "text/plain": [
       "0.5"
      ]
     },
     "execution_count": 69,
     "metadata": {},
     "output_type": "execute_result"
    }
   ],
   "source": [
    "# what is the probability of rolling a 3 or lower?\n",
    "\n",
    "dice_dist.cdf(3)"
   ]
  },
  {
   "cell_type": "markdown",
   "id": "efbc0e42",
   "metadata": {},
   "source": [
    "### Percent Point Function (ppf) (also known as the quantile function) \n",
    "\n",
    "- Can be thought of as the inverse of the cdf.\n",
    "- Gives us the value that is associate with that probability"
   ]
  },
  {
   "cell_type": "code",
   "execution_count": 68,
   "id": "2d854032",
   "metadata": {},
   "outputs": [
    {
     "data": {
      "text/plain": [
       "5.0"
      ]
     },
     "execution_count": 68,
     "metadata": {},
     "output_type": "execute_result"
    }
   ],
   "source": [
    "dice_dist.ppf(5/6)"
   ]
  },
  {
   "cell_type": "markdown",
   "id": "779b0d38",
   "metadata": {},
   "source": [
    "### Survival Function (sf) \n",
    "\n",
    "- Tells us what the probability of our random variable falling above a certain value is. \n",
    "- This is the same as 1 minus the cdf of the same value.\n",
    "\n"
   ]
  },
  {
   "cell_type": "code",
   "execution_count": 73,
   "id": "9e69bc11",
   "metadata": {},
   "outputs": [
    {
     "data": {
      "text/plain": [
       "0.33333333333333337"
      ]
     },
     "execution_count": 73,
     "metadata": {},
     "output_type": "execute_result"
    }
   ],
   "source": [
    "# What is the likelihood we roll a value higher than 4?\n",
    "\n",
    "dice_dist.sf(4)\n"
   ]
  },
  {
   "cell_type": "markdown",
   "id": "4f340020",
   "metadata": {},
   "source": [
    "### Inverse Survival Function (isf) \n",
    "- Give us a value when we provide a probability."
   ]
  },
  {
   "cell_type": "code",
   "execution_count": 77,
   "id": "be67bcb4",
   "metadata": {},
   "outputs": [
    {
     "data": {
      "text/plain": [
       "4.0"
      ]
     },
     "execution_count": 77,
     "metadata": {},
     "output_type": "execute_result"
    }
   ],
   "source": [
    "# There is a 1/3 chance a dice roll will be higher than what value?\n",
    "\n",
    "dice_dist.isf(1/3)\n"
   ]
  },
  {
   "cell_type": "markdown",
   "id": "b0108e54",
   "metadata": {},
   "source": [
    "## (B). BINOMIAL DISTRIBUTION\n",
    "- Binomial distribution lets us model the __number of successes after a number of trials, given a certain probability of success.__ \n",
    "- Example of this is the number of heads you would expect to see after flipping a coin a certain number of times.\n"
   ]
  },
  {
   "cell_type": "markdown",
   "id": "cd1c6d60",
   "metadata": {},
   "source": [
    "### Example:\n",
    "- ##### Suppose that a store's daily sales are normally distributed with a mean of 12,000 dollars and standard deviation of 2000 dollars. How much would the daily sales have to be to be in the top 10% of all days?"
   ]
  },
  {
   "cell_type": "code",
   "execution_count": 78,
   "id": "50be3040",
   "metadata": {},
   "outputs": [
    {
     "name": "stdout",
     "output_type": "stream",
     "text": [
      "$14,563.10\n"
     ]
    }
   ],
   "source": [
    "μ = 12000\n",
    "σ = 2000\n",
    "\n",
    "sales = stats.norm(μ, σ)\n",
    "\n",
    "top_10_percent_cutoff = sales.ppf(.9)\n",
    "\n",
    "print('${:,.2f}'.format(top_10_percent_cutoff))"
   ]
  },
  {
   "cell_type": "code",
   "execution_count": 79,
   "id": "bf1ba89d",
   "metadata": {},
   "outputs": [
    {
     "data": {
      "image/png": "[encoded data removed]",
      "text/plain": [
       "<Figure size 648x432 with 1 Axes>"
      ]
     },
     "metadata": {
      "needs_background": "light"
     },
     "output_type": "display_data"
    }
   ],
   "source": [
    "viz.distributions_example7(μ, σ)"
   ]
  },
  {
   "cell_type": "markdown",
   "id": "b82206f9",
   "metadata": {},
   "source": [
    "- ##### How likely is it that the store sells less than 10,000 dollars one day?\n",
    "\n"
   ]
  },
  {
   "cell_type": "code",
   "execution_count": 84,
   "id": "22595e13",
   "metadata": {},
   "outputs": [
    {
     "name": "stdout",
     "output_type": "stream",
     "text": [
      "Ony any given day, there's a 15.9% chance we sell less than $10,000.\n"
     ]
    }
   ],
   "source": [
    "p = sales.cdf(10_000)\n",
    "\n",
    "print(f'Ony any given day, there\\'s a {p:.1%} chance we sell less than $10,000.')"
   ]
  },
  {
   "cell_type": "code",
   "execution_count": 85,
   "id": "806bfdd7",
   "metadata": {},
   "outputs": [
    {
     "data": {
      "image/png": "[encoded data removed]",
      "text/plain": [
       "<Figure size 864x648 with 1 Axes>"
      ]
     },
     "metadata": {
      "needs_background": "light"
     },
     "output_type": "display_data"
    }
   ],
   "source": [
    "viz.distributions_example8()"
   ]
  },
  {
   "cell_type": "markdown",
   "id": "409704c9",
   "metadata": {},
   "source": [
    "## (C). POISSON DISTRIBUTION\n",
    "- Poisson distribution lets us model a situation where a certain number of events happen over a specified time interval1. \n",
    "- Number of events that happen is a discrete measure.\n",
    "- __This distribution can tell us the likelihood of a certain number of events occuring over the time period.__\n",
    "\n",
    "- Assumes that the events are indpendent of each other and independent of the time since the last event. "
   ]
  },
  {
   "cell_type": "markdown",
   "id": "6eed1416",
   "metadata": {},
   "source": [
    "### Example:\n",
    "- ##### Codeup knows that, on average, students consume 5 lbs of coffee per week. How likely is it that the coffee consumption for this week is only 3 lbs?\n"
   ]
  },
  {
   "cell_type": "code",
   "execution_count": 87,
   "id": "86a9f68a",
   "metadata": {},
   "outputs": [
    {
     "data": {
      "text/plain": [
       "0.1403738958142805"
      ]
     },
     "execution_count": 87,
     "metadata": {},
     "output_type": "execute_result"
    }
   ],
   "source": [
    "stats.poisson(5).pmf(3)"
   ]
  },
  {
   "cell_type": "code",
   "execution_count": 88,
   "id": "b93ec30f",
   "metadata": {},
   "outputs": [
    {
     "data": {
      "image/png": "[encoded data removed]",
      "text/plain": [
       "<Figure size 648x432 with 1 Axes>"
      ]
     },
     "metadata": {
      "needs_background": "light"
     },
     "output_type": "display_data"
    }
   ],
   "source": [
    "viz.distributions_example10()"
   ]
  },
  {
   "cell_type": "markdown",
   "id": "8f8a932a",
   "metadata": {},
   "source": [
    "##### What is the likelihood that more than 7 lbs of coffee are consumed?\n",
    "\n"
   ]
  },
  {
   "cell_type": "code",
   "execution_count": 89,
   "id": "49f936ad",
   "metadata": {},
   "outputs": [
    {
     "data": {
      "text/plain": [
       "0.13337167407000744"
      ]
     },
     "execution_count": 89,
     "metadata": {},
     "output_type": "execute_result"
    }
   ],
   "source": [
    "stats.poisson(5).sf(7)"
   ]
  },
  {
   "cell_type": "code",
   "execution_count": 90,
   "id": "0daafe46",
   "metadata": {},
   "outputs": [
    {
     "data": {
      "image/png": "[encoded data removed]",
      "text/plain": [
       "<Figure size 648x432 with 1 Axes>"
      ]
     },
     "metadata": {
      "needs_background": "light"
     },
     "output_type": "display_data"
    }
   ],
   "source": [
    "viz.distributions_example11()"
   ]
  },
  {
   "cell_type": "markdown",
   "id": "0ac92f02",
   "metadata": {},
   "source": [
    "> # <u>HYPOTHESIS TESTING</u>\n",
    "\n",
    "- ##### The process of comparing one hypothesis to another, and using statistics to help evaluate the hypothesis. (Inferential Statistics).\n",
    "\n",
    "\n",
    "- Ho --> Null hypothesis\n",
    "- H1 or Ha --> Alternate hypothesis\n",
    "- Alpha --> Significance level (False +ve rate)\n",
    "- 1 - beta --> Statistical power\n",
    "- Beta --> False Negative Rate\n",
    "- P-value --> Result due to chance"
   ]
  },
  {
   "cell_type": "markdown",
   "id": "12b3db1a",
   "metadata": {},
   "source": [
    "## Parametric Vs Non-Parametric\n",
    "\n",
    "- parametric tests rely on a distribution"
   ]
  },
  {
   "cell_type": "code",
   "execution_count": null,
   "id": "e267a2f6",
   "metadata": {},
   "outputs": [],
   "source": []
  },
  {
   "cell_type": "code",
   "execution_count": null,
   "id": "fe12065e",
   "metadata": {},
   "outputs": [],
   "source": []
  },
  {
   "cell_type": "code",
   "execution_count": null,
   "id": "909b7a42",
   "metadata": {},
   "outputs": [],
   "source": []
  },
  {
   "cell_type": "code",
   "execution_count": null,
   "id": "2c05ff2c",
   "metadata": {},
   "outputs": [],
   "source": []
  }
 ],
 "metadata": {
  "kernelspec": {
   "display_name": "Python 3 (ipykernel)",
   "language": "python",
   "name": "python3"
  },
  "language_info": {
   "codemirror_mode": {
    "name": "ipython",
    "version": 3
   },
   "file_extension": ".py",
   "mimetype": "text/x-python",
   "name": "python",
   "nbconvert_exporter": "python",
   "pygments_lexer": "ipython3",
   "version": "3.9.7"
  }
 },
 "nbformat": 4,
 "nbformat_minor": 5
}
